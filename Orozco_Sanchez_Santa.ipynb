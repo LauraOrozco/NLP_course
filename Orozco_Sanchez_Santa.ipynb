{
  "nbformat": 4,
  "nbformat_minor": 0,
  "metadata": {
    "colab": {
      "name": "Orozco-Santa-Sanchez.ipynb",
      "provenance": [],
      "collapsed_sections": []
    },
    "kernelspec": {
      "name": "python3",
      "display_name": "Python 3"
    },
    "language_info": {
      "name": "python"
    }
  },
  "cells": [
    {
      "cell_type": "markdown",
      "source": [
        "**Universidad del Valle**\n",
        "\n",
        "**Maestría en Analítica e Inteligencia de Negocios**\n",
        "\n",
        "**Procesamiento de lenguaje natural**\n",
        "\n",
        "**Orozco Laura**\n",
        "\n",
        "**Santa Kellys**\n",
        "\n",
        "**Sanchez Jose**"
      ],
      "metadata": {
        "id": "h92d6lJLd_LF"
      }
    },
    {
      "cell_type": "code",
      "source": [
        "import pandas as pd\n",
        "import re"
      ],
      "metadata": {
        "id": "GC5YWAwzUEQW"
      },
      "execution_count": 28,
      "outputs": []
    },
    {
      "cell_type": "code",
      "execution_count": 2,
      "metadata": {
        "id": "PuFWlNU6H3Pj",
        "colab": {
          "base_uri": "https://localhost:8080/"
        },
        "outputId": "bd8b1f0b-57f9-45e9-97ff-859493518874"
      },
      "outputs": [
        {
          "output_type": "stream",
          "name": "stdout",
          "text": [
            "Mounted at /content/drive\n"
          ]
        }
      ],
      "source": [
        "from google.colab import drive\n",
        "drive.mount('/content/drive')"
      ]
    },
    {
      "cell_type": "code",
      "source": [
        "files_folder = \"/content/drive/MyDrive/MAIN/Semestre 3/PLN/Taller 1 - Tokenizacion/\""
      ],
      "metadata": {
        "id": "9UplDlUuRwMw"
      },
      "execution_count": 3,
      "outputs": []
    },
    {
      "cell_type": "code",
      "source": [
        "def leer_archivo(ruta):\n",
        "  with open(ruta,  mode='r',encoding='utf-8') as f:\n",
        "    texto = f.read()\n",
        "  return texto"
      ],
      "metadata": {
        "id": "-O9A0I66RVng"
      },
      "execution_count": 29,
      "outputs": []
    },
    {
      "cell_type": "code",
      "source": [
        "def segmentar_texto(texto):\n",
        "  ##Segmentar el texto\n",
        "  sentencias = re.split(r'[\\n]+', texto)\n",
        "  return sentencias"
      ],
      "metadata": {
        "id": "tcxFzkv4Tyg-"
      },
      "execution_count": 30,
      "outputs": []
    },
    {
      "cell_type": "code",
      "source": [
        "def limpiar_sentencias(sentencias):\n",
        "  sentencias_nuevas = []\n",
        "  regexs = [\n",
        "    re.compile(p)\n",
        "    for p in [r'https?://\\S+', # Quitar URLs\n",
        "              '[&#@]',  # Quitar los simbolos (&,#, @)\n",
        "              r':-*\\(+',  # Quitar simbolos :(  :-(\n",
        "              r':-*\\)+',  # Quitar simbolos :)  :-)\n",
        "              '[:,\\?\\.\\!\\-\\_]+',  # Quitar otros simbolos\n",
        "              ]\n",
        "        ]\n",
        "  #Quitar emoticones\n",
        "  emoticones = re.compile(\n",
        "        '['\n",
        "        u'\\U0001F600-\\U0001F64F' \n",
        "        u'\\U0001F300-\\U0001F5FF'\n",
        "        u'\\U0001F680-\\U0001F6FF' \n",
        "        u'\\U0001F1E0-\\U0001F1FF'\n",
        "        u'\\U00002702-\\U000027B0'\n",
        "        u'\\U000024C2-\\U0001F251'\n",
        "        ']+',\n",
        "        flags=re.UNICODE)\n",
        "  \n",
        "  #Quitar emoticones\n",
        "  sentencias_nuevas = [emoticones.sub('', s) for s in sentencias]\n",
        "\n",
        "  #Quitar espacios en blanco\n",
        "  espacios_blanco = re.compile(' +')\n",
        "\n",
        "  for regex in regexs:\n",
        "    print(\"quitando\",regex)\n",
        "    sentencias_nuevas = [regex.sub('', s) for s in sentencias_nuevas]\n",
        "  sentencias_nuevas = [espacios_blanco.sub(' ', s) for s in sentencias_nuevas]\n",
        "  return sentencias_nuevas"
      ],
      "metadata": {
        "id": "cDyaDbiAXtEp"
      },
      "execution_count": 31,
      "outputs": []
    },
    {
      "cell_type": "code",
      "source": [
        "def get_nicknames(sentencias):\n",
        "  nicknames_all = []\n",
        "  for sentencia in sentencias:\n",
        "    nicknames = [re.sub('@','',w)\n",
        "                for w in re.split(r' ', sentencia)\n",
        "                if not re.match('@',w) is None\n",
        "                ]\n",
        "    nicknames_all.append(nicknames)\n",
        "  return nicknames_all\n",
        "\n"
      ],
      "metadata": {
        "id": "FQTASEAkBnoU"
      },
      "execution_count": 32,
      "outputs": []
    },
    {
      "cell_type": "code",
      "source": [
        "def get_hashtag(sentencias):\n",
        "  hashtags_all = []\n",
        "  for sentencia in sentencias:\n",
        "    hashtags = [re.sub('#','',w)\n",
        "                for w in re.split(r' ', sentencia)\n",
        "                if not re.match('#',w) is None\n",
        "                ]\n",
        "    hashtags_all.append(hashtags)\n",
        "  return hashtags_all"
      ],
      "metadata": {
        "id": "nZkAn79Kmnbh"
      },
      "execution_count": 33,
      "outputs": []
    },
    {
      "cell_type": "code",
      "source": [
        "txt_tweets_neg = leer_archivo(\"/content/tweets_neg_clean.txt\")\n",
        "sentencias_tweets_neg = segmentar_texto(txt_tweets_neg)\n",
        "sentencias_limpias_neg = limpiar_sentencias(sentencias_tweets_neg)\n",
        "ickname_neg = get_nicknames(sentencias_tweets_neg)\n",
        "hashtag_neg = get_hashtag(sentencias_tweets_neg)\n",
        "tabla_neg  = pd.DataFrame(list(zip(sentencias_tweets_neg,sentencias_limpias_neg, nickname_neg,hashtag_neg )), columns = ['Sentencia original','Sentencia limpia', \"Nickname\", \"Hashtag\"])\n",
        "tabla_neg[\"label\"] = 0\n"
      ],
      "metadata": {
        "colab": {
          "base_uri": "https://localhost:8080/"
        },
        "id": "0wOy1wwHAy71",
        "outputId": "475b6e9a-8e65-4d40-b0e2-d539684b38a6"
      },
      "execution_count": 34,
      "outputs": [
        {
          "output_type": "stream",
          "name": "stdout",
          "text": [
            "quitando re.compile('https?://\\\\S+')\n",
            "quitando re.compile('[&#@]')\n",
            "quitando re.compile(':-*\\\\(+')\n",
            "quitando re.compile(':-*\\\\)+')\n",
            "quitando re.compile('[:,\\\\?\\\\.\\\\!\\\\-\\\\_]+')\n"
          ]
        }
      ]
    },
    {
      "cell_type": "code",
      "source": [
        "tabla_neg"
      ],
      "metadata": {
        "colab": {
          "base_uri": "https://localhost:8080/",
          "height": 423
        },
        "id": "Hjji85TDBeqc",
        "outputId": "2b432d5c-b15d-4fd5-9159-cf51e6ed7976"
      },
      "execution_count": 35,
      "outputs": [
        {
          "output_type": "execute_result",
          "data": {
            "text/html": [
              "<div>\n",
              "<style scoped>\n",
              "    .dataframe tbody tr th:only-of-type {\n",
              "        vertical-align: middle;\n",
              "    }\n",
              "\n",
              "    .dataframe tbody tr th {\n",
              "        vertical-align: top;\n",
              "    }\n",
              "\n",
              "    .dataframe thead th {\n",
              "        text-align: right;\n",
              "    }\n",
              "</style>\n",
              "<table border=\"1\" class=\"dataframe\">\n",
              "  <thead>\n",
              "    <tr style=\"text-align: right;\">\n",
              "      <th></th>\n",
              "      <th>Sentencia original</th>\n",
              "      <th>Sentencia limpia</th>\n",
              "      <th>Nickname</th>\n",
              "      <th>Hashtag</th>\n",
              "      <th>label</th>\n",
              "    </tr>\n",
              "  </thead>\n",
              "  <tbody>\n",
              "    <tr>\n",
              "      <th>0</th>\n",
              "      <td>Cordobés porque me la complicaste con el cosen...</td>\n",
              "      <td>Cordobés porque me la complicaste con el coseno</td>\n",
              "      <td>[]</td>\n",
              "      <td>[]</td>\n",
              "      <td>0</td>\n",
              "    </tr>\n",
              "    <tr>\n",
              "      <th>1</th>\n",
              "      <td>Tengo fiebre :(</td>\n",
              "      <td>Tengo fiebre</td>\n",
              "      <td>[]</td>\n",
              "      <td>[]</td>\n",
              "      <td>0</td>\n",
              "    </tr>\n",
              "    <tr>\n",
              "      <th>2</th>\n",
              "      <td>@sooooyderiver dame bola :(</td>\n",
              "      <td>sooooyderiver dame bola</td>\n",
              "      <td>[sooooyderiver]</td>\n",
              "      <td>[]</td>\n",
              "      <td>0</td>\n",
              "    </tr>\n",
              "    <tr>\n",
              "      <th>3</th>\n",
              "      <td>Quiero bailar salsa :(</td>\n",
              "      <td>Quiero bailar salsa</td>\n",
              "      <td>[]</td>\n",
              "      <td>[]</td>\n",
              "      <td>0</td>\n",
              "    </tr>\n",
              "    <tr>\n",
              "      <th>4</th>\n",
              "      <td>Metal Gear. :(</td>\n",
              "      <td>Metal Gear</td>\n",
              "      <td>[]</td>\n",
              "      <td>[]</td>\n",
              "      <td>0</td>\n",
              "    </tr>\n",
              "    <tr>\n",
              "      <th>...</th>\n",
              "      <td>...</td>\n",
              "      <td>...</td>\n",
              "      <td>...</td>\n",
              "      <td>...</td>\n",
              "      <td>...</td>\n",
              "    </tr>\n",
              "    <tr>\n",
              "      <th>122212</th>\n",
              "      <td>Yo creo que a Colocolo le hacía falta un parti...</td>\n",
              "      <td>Yo creo que a Colocolo le hacía falta un parti...</td>\n",
              "      <td>[]</td>\n",
              "      <td>[]</td>\n",
              "      <td>0</td>\n",
              "    </tr>\n",
              "    <tr>\n",
              "      <th>122213</th>\n",
              "      <td>@seru15 son para niño :( quisiera quedarmelos.</td>\n",
              "      <td>seru15 son para niño quisiera quedarmelos</td>\n",
              "      <td>[seru15]</td>\n",
              "      <td>[]</td>\n",
              "      <td>0</td>\n",
              "    </tr>\n",
              "    <tr>\n",
              "      <th>122214</th>\n",
              "      <td>Diganle al sonidero que ya le baje a su desmad...</td>\n",
              "      <td>Diganle al sonidero que ya le baje a su desmadre</td>\n",
              "      <td>[]</td>\n",
              "      <td>[]</td>\n",
              "      <td>0</td>\n",
              "    </tr>\n",
              "    <tr>\n",
              "      <th>122215</th>\n",
              "      <td>Buenos días, gente que se le daña el celular :(</td>\n",
              "      <td>Buenos días gente que se le daña el celular</td>\n",
              "      <td>[]</td>\n",
              "      <td>[]</td>\n",
              "      <td>0</td>\n",
              "    </tr>\n",
              "    <tr>\n",
              "      <th>122216</th>\n",
              "      <td></td>\n",
              "      <td></td>\n",
              "      <td>[]</td>\n",
              "      <td>[]</td>\n",
              "      <td>0</td>\n",
              "    </tr>\n",
              "  </tbody>\n",
              "</table>\n",
              "<p>122217 rows × 5 columns</p>\n",
              "</div>"
            ],
            "text/plain": [
              "                                       Sentencia original  ... label\n",
              "0       Cordobés porque me la complicaste con el cosen...  ...     0\n",
              "1                                         Tengo fiebre :(  ...     0\n",
              "2                             @sooooyderiver dame bola :(  ...     0\n",
              "3                                  Quiero bailar salsa :(  ...     0\n",
              "4                                          Metal Gear. :(  ...     0\n",
              "...                                                   ...  ...   ...\n",
              "122212  Yo creo que a Colocolo le hacía falta un parti...  ...     0\n",
              "122213     @seru15 son para niño :( quisiera quedarmelos.  ...     0\n",
              "122214  Diganle al sonidero que ya le baje a su desmad...  ...     0\n",
              "122215    Buenos días, gente que se le daña el celular :(  ...     0\n",
              "122216                                                     ...     0\n",
              "\n",
              "[122217 rows x 5 columns]"
            ]
          },
          "metadata": {},
          "execution_count": 35
        }
      ]
    },
    {
      "cell_type": "code",
      "source": [
        "txt_tweets_pos = leer_archivo(\"/content/tweets_pos_clean.txt\")\n",
        "sentencias_tweets_pos = segmentar_texto(txt_tweets_pos)\n",
        "sentencias_limpias_pos = limpiar_sentencias(sentencias_tweets_pos)\n",
        "nickname_pos = get_nicknames(sentencias_tweets_pos)\n",
        "hashtag_pos = get_hashtag(sentencias_tweets_pos)\n",
        "tabla_pos  = pd.DataFrame(list(zip(sentencias_tweets_pos,sentencias_limpias_pos, nickname_pos,hashtag_pos )), columns = ['Sentencia original','Sentencia limpia', \"Nickname\", \"Hashtag\"])\n",
        "tabla_pos[\"label\"] = 1"
      ],
      "metadata": {
        "colab": {
          "base_uri": "https://localhost:8080/"
        },
        "id": "z1oWASckBqwr",
        "outputId": "d473ab4f-a8b4-44cb-9e59-d9cb3c60735e"
      },
      "execution_count": 36,
      "outputs": [
        {
          "output_type": "stream",
          "name": "stdout",
          "text": [
            "quitando re.compile('https?://\\\\S+')\n",
            "quitando re.compile('[&#@]')\n",
            "quitando re.compile(':-*\\\\(+')\n",
            "quitando re.compile(':-*\\\\)+')\n",
            "quitando re.compile('[:,\\\\?\\\\.\\\\!\\\\-\\\\_]+')\n"
          ]
        }
      ]
    },
    {
      "cell_type": "code",
      "source": [
        "tabla_pos"
      ],
      "metadata": {
        "colab": {
          "base_uri": "https://localhost:8080/",
          "height": 423
        },
        "id": "Uk_FUI-KCyCr",
        "outputId": "06036a63-33ec-4215-b5ec-f10e3e46fab8"
      },
      "execution_count": 37,
      "outputs": [
        {
          "output_type": "execute_result",
          "data": {
            "text/html": [
              "<div>\n",
              "<style scoped>\n",
              "    .dataframe tbody tr th:only-of-type {\n",
              "        vertical-align: middle;\n",
              "    }\n",
              "\n",
              "    .dataframe tbody tr th {\n",
              "        vertical-align: top;\n",
              "    }\n",
              "\n",
              "    .dataframe thead th {\n",
              "        text-align: right;\n",
              "    }\n",
              "</style>\n",
              "<table border=\"1\" class=\"dataframe\">\n",
              "  <thead>\n",
              "    <tr style=\"text-align: right;\">\n",
              "      <th></th>\n",
              "      <th>Sentencia original</th>\n",
              "      <th>Sentencia limpia</th>\n",
              "      <th>Nickname</th>\n",
              "      <th>Hashtag</th>\n",
              "      <th>label</th>\n",
              "    </tr>\n",
              "  </thead>\n",
              "  <tbody>\n",
              "    <tr>\n",
              "      <th>0</th>\n",
              "      <td>Se imaginan a los chicos agradeciendo por el p...</td>\n",
              "      <td>Se imaginan a los chicos agradeciendo por el p...</td>\n",
              "      <td>[]</td>\n",
              "      <td>[]</td>\n",
              "      <td>1</td>\n",
              "    </tr>\n",
              "    <tr>\n",
              "      <th>1</th>\n",
              "      <td>Eclesiastes4:9-12 ♡ Siempre, promesa :)  https...</td>\n",
              "      <td>Eclesiastes4912 Siempre promesa</td>\n",
              "      <td>[]</td>\n",
              "      <td>[]</td>\n",
              "      <td>1</td>\n",
              "    </tr>\n",
              "    <tr>\n",
              "      <th>2</th>\n",
              "      <td>@pedroj_ramirez Qué saborío, PJ. ya no compart...</td>\n",
              "      <td>pedrojramirez Qué saborío PJ ya no compartes n...</td>\n",
              "      <td>[pedroj_ramirez]</td>\n",
              "      <td>[]</td>\n",
              "      <td>1</td>\n",
              "    </tr>\n",
              "    <tr>\n",
              "      <th>3</th>\n",
              "      <td>Buenos dias para todos. Feliz inicio de semana...</td>\n",
              "      <td>Buenos dias para todos Feliz inicio de semana</td>\n",
              "      <td>[]</td>\n",
              "      <td>[]</td>\n",
              "      <td>1</td>\n",
              "    </tr>\n",
              "    <tr>\n",
              "      <th>4</th>\n",
              "      <td>@pepedom @bquintero Gracias! No es así, deja c...</td>\n",
              "      <td>pepedom bquintero Gracias No es así deja claro...</td>\n",
              "      <td>[pepedom, bquintero]</td>\n",
              "      <td>[]</td>\n",
              "      <td>1</td>\n",
              "    </tr>\n",
              "    <tr>\n",
              "      <th>...</th>\n",
              "      <td>...</td>\n",
              "      <td>...</td>\n",
              "      <td>...</td>\n",
              "      <td>...</td>\n",
              "      <td>...</td>\n",
              "    </tr>\n",
              "    <tr>\n",
              "      <th>55355</th>\n",
              "      <td>@nyazfthes Gracias por seguirme, en breve te d...</td>\n",
              "      <td>nyazfthes Gracias por seguirme en breve te dev...</td>\n",
              "      <td>[nyazfthes]</td>\n",
              "      <td>[TuitUtil]</td>\n",
              "      <td>1</td>\n",
              "    </tr>\n",
              "    <tr>\n",
              "      <th>55356</th>\n",
              "      <td>Y ahora no podré dormir :)))))))</td>\n",
              "      <td>Y ahora no podré dormir</td>\n",
              "      <td>[]</td>\n",
              "      <td>[]</td>\n",
              "      <td>1</td>\n",
              "    </tr>\n",
              "    <tr>\n",
              "      <th>55357</th>\n",
              "      <td>En la Boca :) @ Estadio Boca Juniors https://t...</td>\n",
              "      <td>En la Boca Estadio Boca Juniors</td>\n",
              "      <td>[]</td>\n",
              "      <td>[]</td>\n",
              "      <td>1</td>\n",
              "    </tr>\n",
              "    <tr>\n",
              "      <th>55358</th>\n",
              "      <td>Goooooooooooool La concha de la lora , Vamos M...</td>\n",
              "      <td>Goooooooooooool La concha de la lora Vamos Melli</td>\n",
              "      <td>[]</td>\n",
              "      <td>[]</td>\n",
              "      <td>1</td>\n",
              "    </tr>\n",
              "    <tr>\n",
              "      <th>55359</th>\n",
              "      <td></td>\n",
              "      <td></td>\n",
              "      <td>[]</td>\n",
              "      <td>[]</td>\n",
              "      <td>1</td>\n",
              "    </tr>\n",
              "  </tbody>\n",
              "</table>\n",
              "<p>55360 rows × 5 columns</p>\n",
              "</div>"
            ],
            "text/plain": [
              "                                      Sentencia original  ... label\n",
              "0      Se imaginan a los chicos agradeciendo por el p...  ...     1\n",
              "1      Eclesiastes4:9-12 ♡ Siempre, promesa :)  https...  ...     1\n",
              "2      @pedroj_ramirez Qué saborío, PJ. ya no compart...  ...     1\n",
              "3      Buenos dias para todos. Feliz inicio de semana...  ...     1\n",
              "4      @pepedom @bquintero Gracias! No es así, deja c...  ...     1\n",
              "...                                                  ...  ...   ...\n",
              "55355  @nyazfthes Gracias por seguirme, en breve te d...  ...     1\n",
              "55356                   Y ahora no podré dormir :)))))))  ...     1\n",
              "55357  En la Boca :) @ Estadio Boca Juniors https://t...  ...     1\n",
              "55358  Goooooooooooool La concha de la lora , Vamos M...  ...     1\n",
              "55359                                                     ...     1\n",
              "\n",
              "[55360 rows x 5 columns]"
            ]
          },
          "metadata": {},
          "execution_count": 37
        }
      ]
    },
    {
      "cell_type": "code",
      "source": [
        "tabla_pos.to_csv(\"tweets_pos_clean_process.csv\", index=False)\n",
        "tabla_neg.to_csv(\"tweets_neg_clean_process.csv\", index=False)"
      ],
      "metadata": {
        "id": "PPschr5zC6v4"
      },
      "execution_count": 38,
      "outputs": []
    },
    {
      "cell_type": "code",
      "source": [
        "pd.read_csv(\"tweets_pos_clean_process.csv\")"
      ],
      "metadata": {
        "colab": {
          "base_uri": "https://localhost:8080/",
          "height": 423
        },
        "id": "xUDI3Z6vDpHT",
        "outputId": "bbe15b29-3f40-4bc8-84d4-2cf2612ad415"
      },
      "execution_count": 39,
      "outputs": [
        {
          "output_type": "execute_result",
          "data": {
            "text/html": [
              "<div>\n",
              "<style scoped>\n",
              "    .dataframe tbody tr th:only-of-type {\n",
              "        vertical-align: middle;\n",
              "    }\n",
              "\n",
              "    .dataframe tbody tr th {\n",
              "        vertical-align: top;\n",
              "    }\n",
              "\n",
              "    .dataframe thead th {\n",
              "        text-align: right;\n",
              "    }\n",
              "</style>\n",
              "<table border=\"1\" class=\"dataframe\">\n",
              "  <thead>\n",
              "    <tr style=\"text-align: right;\">\n",
              "      <th></th>\n",
              "      <th>Sentencia original</th>\n",
              "      <th>Sentencia limpia</th>\n",
              "      <th>Nickname</th>\n",
              "      <th>Hashtag</th>\n",
              "      <th>label</th>\n",
              "    </tr>\n",
              "  </thead>\n",
              "  <tbody>\n",
              "    <tr>\n",
              "      <th>0</th>\n",
              "      <td>Se imaginan a los chicos agradeciendo por el p...</td>\n",
              "      <td>Se imaginan a los chicos agradeciendo por el p...</td>\n",
              "      <td>[]</td>\n",
              "      <td>[]</td>\n",
              "      <td>1</td>\n",
              "    </tr>\n",
              "    <tr>\n",
              "      <th>1</th>\n",
              "      <td>Eclesiastes4:9-12 ♡ Siempre, promesa :)  https...</td>\n",
              "      <td>Eclesiastes4912 Siempre promesa</td>\n",
              "      <td>[]</td>\n",
              "      <td>[]</td>\n",
              "      <td>1</td>\n",
              "    </tr>\n",
              "    <tr>\n",
              "      <th>2</th>\n",
              "      <td>@pedroj_ramirez Qué saborío, PJ. ya no compart...</td>\n",
              "      <td>pedrojramirez Qué saborío PJ ya no compartes n...</td>\n",
              "      <td>['pedroj_ramirez']</td>\n",
              "      <td>[]</td>\n",
              "      <td>1</td>\n",
              "    </tr>\n",
              "    <tr>\n",
              "      <th>3</th>\n",
              "      <td>Buenos dias para todos. Feliz inicio de semana...</td>\n",
              "      <td>Buenos dias para todos Feliz inicio de semana</td>\n",
              "      <td>[]</td>\n",
              "      <td>[]</td>\n",
              "      <td>1</td>\n",
              "    </tr>\n",
              "    <tr>\n",
              "      <th>4</th>\n",
              "      <td>@pepedom @bquintero Gracias! No es así, deja c...</td>\n",
              "      <td>pepedom bquintero Gracias No es así deja claro...</td>\n",
              "      <td>['pepedom', 'bquintero']</td>\n",
              "      <td>[]</td>\n",
              "      <td>1</td>\n",
              "    </tr>\n",
              "    <tr>\n",
              "      <th>...</th>\n",
              "      <td>...</td>\n",
              "      <td>...</td>\n",
              "      <td>...</td>\n",
              "      <td>...</td>\n",
              "      <td>...</td>\n",
              "    </tr>\n",
              "    <tr>\n",
              "      <th>55355</th>\n",
              "      <td>@nyazfthes Gracias por seguirme, en breve te d...</td>\n",
              "      <td>nyazfthes Gracias por seguirme en breve te dev...</td>\n",
              "      <td>['nyazfthes']</td>\n",
              "      <td>['TuitUtil']</td>\n",
              "      <td>1</td>\n",
              "    </tr>\n",
              "    <tr>\n",
              "      <th>55356</th>\n",
              "      <td>Y ahora no podré dormir :)))))))</td>\n",
              "      <td>Y ahora no podré dormir</td>\n",
              "      <td>[]</td>\n",
              "      <td>[]</td>\n",
              "      <td>1</td>\n",
              "    </tr>\n",
              "    <tr>\n",
              "      <th>55357</th>\n",
              "      <td>En la Boca :) @ Estadio Boca Juniors https://t...</td>\n",
              "      <td>En la Boca Estadio Boca Juniors</td>\n",
              "      <td>['']</td>\n",
              "      <td>[]</td>\n",
              "      <td>1</td>\n",
              "    </tr>\n",
              "    <tr>\n",
              "      <th>55358</th>\n",
              "      <td>Goooooooooooool La concha de la lora , Vamos M...</td>\n",
              "      <td>Goooooooooooool La concha de la lora Vamos Melli</td>\n",
              "      <td>[]</td>\n",
              "      <td>[]</td>\n",
              "      <td>1</td>\n",
              "    </tr>\n",
              "    <tr>\n",
              "      <th>55359</th>\n",
              "      <td>NaN</td>\n",
              "      <td>NaN</td>\n",
              "      <td>[]</td>\n",
              "      <td>[]</td>\n",
              "      <td>1</td>\n",
              "    </tr>\n",
              "  </tbody>\n",
              "</table>\n",
              "<p>55360 rows × 5 columns</p>\n",
              "</div>"
            ],
            "text/plain": [
              "                                      Sentencia original  ... label\n",
              "0      Se imaginan a los chicos agradeciendo por el p...  ...     1\n",
              "1      Eclesiastes4:9-12 ♡ Siempre, promesa :)  https...  ...     1\n",
              "2      @pedroj_ramirez Qué saborío, PJ. ya no compart...  ...     1\n",
              "3      Buenos dias para todos. Feliz inicio de semana...  ...     1\n",
              "4      @pepedom @bquintero Gracias! No es así, deja c...  ...     1\n",
              "...                                                  ...  ...   ...\n",
              "55355  @nyazfthes Gracias por seguirme, en breve te d...  ...     1\n",
              "55356                   Y ahora no podré dormir :)))))))  ...     1\n",
              "55357  En la Boca :) @ Estadio Boca Juniors https://t...  ...     1\n",
              "55358  Goooooooooooool La concha de la lora , Vamos M...  ...     1\n",
              "55359                                                NaN  ...     1\n",
              "\n",
              "[55360 rows x 5 columns]"
            ]
          },
          "metadata": {},
          "execution_count": 39
        }
      ]
    }
  ]
}